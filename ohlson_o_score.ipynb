{
 "cells": [
  {
   "cell_type": "code",
   "execution_count": null,
   "id": "248fdf60",
   "metadata": {},
   "outputs": [],
   "source": [
    "from algorithms.ohlson_o_score import o_score, batch_o\n",
    "import pandas as pd\n",
    "\n",
    "# једна фирма\n",
    "x = dict(x1=-0.1, x2=0.55, x3=0.04, x4=0.60, x5=0.03, x6=1.2, x7=0, x8=0, x9=-0.2)\n",
    "O, lbl = o_score(x)\n",
    "print(f\"O-score = {O:.3f}  →  {lbl}\")\n",
    "\n",
    "# више фирми у DataFrame-у\n",
    "df = pd.DataFrame(\n",
    "    [\n",
    "        {\n",
    "            \"Size\": -0.05,\n",
    "            \"Leverage\": 0.6,\n",
    "            \"WC_TA\": 0.03,\n",
    "            \"CL_CA\": 0.5,\n",
    "            \"NI_TA\": 0.02,\n",
    "            \"Sales_TL\": 1.0,\n",
    "            \"NI_neg2yr\": 0,\n",
    "            \"TL_gt_TA\": 0,\n",
    "            \"NI_delta\": -0.1,\n",
    "        },\n",
    "        {\n",
    "            \"Size\": 0.12,\n",
    "            \"Leverage\": 0.9,\n",
    "            \"WC_TA\": -0.04,\n",
    "            \"CL_CA\": 0.8,\n",
    "            \"NI_TA\": -0.01,\n",
    "            \"Sales_TL\": 0.7,\n",
    "            \"NI_neg2yr\": 1,\n",
    "            \"TL_gt_TA\": 1,\n",
    "            \"NI_delta\": 0.3,\n",
    "        },\n",
    "    ]\n",
    ")\n",
    "cols = {\n",
    "    \"x1\": \"Size\",\n",
    "    \"x2\": \"Leverage\",\n",
    "    \"x3\": \"WC_TA\",\n",
    "    \"x4\": \"CL_CA\",\n",
    "    \"x5\": \"NI_TA\",\n",
    "    \"x6\": \"Sales_TL\",\n",
    "    \"x7\": \"NI_neg2yr\",\n",
    "    \"x8\": \"TL_gt_TA\",\n",
    "    \"x9\": \"NI_delta\",\n",
    "}\n",
    "res = batch_o(df, cols)\n",
    "print(res)"
   ]
  }
 ],
 "metadata": {
  "language_info": {
   "name": "python"
  }
 },
 "nbformat": 4,
 "nbformat_minor": 5
}
