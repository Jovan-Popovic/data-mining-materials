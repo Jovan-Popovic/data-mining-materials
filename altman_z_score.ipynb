{
 "cells": [
  {
   "cell_type": "code",
   "execution_count": null,
   "id": "fe8414f0",
   "metadata": {},
   "outputs": [],
   "source": [
    "from algorithms.altman_z_score import z_score\n",
    "\n",
    "# opcija A: dict\n",
    "firm = {\"x1\": 0.25, \"x2\": 0.13, \"x3\": 0.08, \"x4\": 0.55, \"x5\": 1.2}\n",
    "z, label = z_score(firm, model=\"original\")\n",
    "print(f\"Z = {z:.2f}   →  {label}\")\n",
    "\n",
    "# opcija B: tuple (x1,x2,x3,x4,x5) – isti rezultat\n",
    "z2, label2 = z_score((0.25, 0.13, 0.08, 0.55, 1.2))"
   ]
  },
  {
   "cell_type": "code",
   "execution_count": null,
   "id": "6f531633",
   "metadata": {},
   "outputs": [],
   "source": [
    "import pandas as pd\n",
    "from algorithms.altman_z_score import batch_z\n",
    "\n",
    "data = [\n",
    "    # CA/TA,  RE/TA,  EBIT/TA,  EQ/TL,  S/TA\n",
    "    [0.35, 0.20, 0.11, 0.60, 1.3],  # Firma A\n",
    "    [0.20, 0.05, -0.02, 0.35, 0.9],  # Firma B\n",
    "    [0.28, 0.15, 0.09, 0.50, 1.1],  # Firma C\n",
    "]\n",
    "cols_ratios = [\"CA/TA\", \"RE/TA\", \"EBIT/TA\", \"EQ/TL\", \"S/TA\"]\n",
    "df = pd.DataFrame(data, columns=cols_ratios, index=[\"A\", \"B\", \"C\"])\n",
    "\n",
    "# mapiraj ratio-kolone na x1…x5 po Altman receptu\n",
    "col_map = {\n",
    "    \"x1\": \"CA/TA\",\n",
    "    \"x2\": \"RE/TA\",\n",
    "    \"x3\": \"EBIT/TA\",\n",
    "    \"x4\": \"EQ/TL\",\n",
    "    \"x5\": \"S/TA\",\n",
    "}\n",
    "\n",
    "df_z = batch_z(df, col_map, model=\"original\")\n",
    "display(df.join(df_z))"
   ]
  },
  {
   "cell_type": "code",
   "execution_count": null,
   "id": "09f99074",
   "metadata": {},
   "outputs": [],
   "source": [
    "import matplotlib.pyplot as plt\n",
    "\n",
    "plt.figure(figsize=(4, 3))\n",
    "for risk, color in zip((\"Safe\", \"Grey\", \"Distress\"), (\"g\", \"orange\", \"r\")):\n",
    "    subset = df_z[df_z[\"Risk\"] == risk]\n",
    "    plt.scatter(subset.index, subset[\"Z\"], c=color, label=risk, s=80, edgecolor=\"k\")\n",
    "plt.axhline(2.99, ls=\"--\", c=\"k\", lw=0.8)\n",
    "plt.axhline(1.81, ls=\"--\", c=\"k\", lw=0.8)\n",
    "plt.ylabel(\"Z-score\")\n",
    "plt.title(\"Altman zones\")\n",
    "plt.legend()\n",
    "plt.show()"
   ]
  },
  {
   "cell_type": "code",
   "execution_count": null,
   "id": "907a4c1c",
   "metadata": {},
   "outputs": [],
   "source": [
    "df_z_priv = batch_z(df, col_map, model=\"private\")\n",
    "print(df_z_priv)"
   ]
  }
 ],
 "metadata": {
  "language_info": {
   "name": "python"
  }
 },
 "nbformat": 4,
 "nbformat_minor": 5
}
