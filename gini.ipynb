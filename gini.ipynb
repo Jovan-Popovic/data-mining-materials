{
 "cells": [
  {
   "cell_type": "code",
   "execution_count": 1,
   "id": "5ce897bf",
   "metadata": {},
   "outputs": [],
   "source": [
    "import pandas as pd\n",
    "from algorithms.gini import gini, gini_after_split, best_split\n",
    "\n",
    "data = [\n",
    "    (\"Sunny\", \"Hot\", \"High\", False, \"No\"),\n",
    "    (\"Sunny\", \"Hot\", \"High\", True, \"No\"),\n",
    "    (\"Overcast\", \"Hot\", \"High\", False, \"Yes\"),\n",
    "    (\"Rain\", \"Mild\", \"High\", False, \"Yes\"),\n",
    "    (\"Rain\", \"Cool\", \"Normal\", False, \"Yes\"),\n",
    "    (\"Rain\", \"Cool\", \"Normal\", True, \"No\"),\n",
    "    (\"Overcast\", \"Cool\", \"Normal\", True, \"Yes\"),\n",
    "    (\"Sunny\", \"Mild\", \"High\", False, \"No\"),\n",
    "    (\"Sunny\", \"Cool\", \"Normal\", False, \"Yes\"),\n",
    "    (\"Rain\", \"Mild\", \"Normal\", False, \"Yes\"),\n",
    "    (\"Sunny\", \"Mild\", \"Normal\", True, \"Yes\"),\n",
    "    (\"Overcast\", \"Mild\", \"High\", True, \"Yes\"),\n",
    "    (\"Overcast\", \"Hot\", \"Normal\", False, \"Yes\"),\n",
    "    (\"Rain\", \"Mild\", \"High\", True, \"No\"),\n",
    "]\n",
    "cols = [\"Outlook\", \"Temperature\", \"Humidity\", \"Windy\", \"Play\"]\n",
    "df = pd.DataFrame(data, columns=cols)"
   ]
  },
  {
   "cell_type": "code",
   "execution_count": 2,
   "id": "d069ce95",
   "metadata": {},
   "outputs": [
    {
     "name": "stdout",
     "output_type": "stream",
     "text": [
      "Parent Gini impurity: 0.459\n"
     ]
    }
   ],
   "source": [
    "print(\"Parent Gini impurity:\", gini(df[\"Play\"]).round(3))"
   ]
  },
  {
   "cell_type": "code",
   "execution_count": 3,
   "id": "d904b67a",
   "metadata": {},
   "outputs": [
    {
     "name": "stdout",
     "output_type": "stream",
     "text": [
      "Gini gain for Outlook = 0.116\n"
     ]
    }
   ],
   "source": [
    "splits = [df[df[\"Outlook\"] == v][\"Play\"] for v in df[\"Outlook\"].unique()]\n",
    "gain = gini(df[\"Play\"]) - gini_after_split(df[\"Play\"], splits)\n",
    "print(\"Gini gain for Outlook =\", gain.round(3))"
   ]
  },
  {
   "cell_type": "code",
   "execution_count": 4,
   "id": "258731bf",
   "metadata": {},
   "outputs": [
    {
     "name": "stdout",
     "output_type": "stream",
     "text": [
      "[cat] Outlook      gain=0.1163\n",
      "[cat] Temperature  gain=0.0187\n",
      "[cat] Humidity     gain=0.0918\n",
      "[num] Windy        thr=0.500  gain=0.0306\n",
      "\n",
      "Best split:\n",
      "{'attribute': 'Outlook', 'threshold': None, 'gain': np.float64(0.11632653061224485), 'gini_parent': np.float64(0.4591836734693877)}\n"
     ]
    }
   ],
   "source": [
    "info = best_split(df, target=\"Play\", verbose=True)\n",
    "print(\"\\nBest split:\")\n",
    "print(info)"
   ]
  },
  {
   "cell_type": "code",
   "execution_count": null,
   "id": "db4bb9f1",
   "metadata": {},
   "outputs": [],
   "source": []
  }
 ],
 "metadata": {
  "kernelspec": {
   "display_name": "data-mining-scripts-py3.11",
   "language": "python",
   "name": "python3"
  },
  "language_info": {
   "codemirror_mode": {
    "name": "ipython",
    "version": 3
   },
   "file_extension": ".py",
   "mimetype": "text/x-python",
   "name": "python",
   "nbconvert_exporter": "python",
   "pygments_lexer": "ipython3",
   "version": "3.11.6"
  }
 },
 "nbformat": 4,
 "nbformat_minor": 5
}
