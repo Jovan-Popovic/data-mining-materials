{
 "cells": [
  {
   "cell_type": "code",
   "execution_count": null,
   "id": "47c9e0a4",
   "metadata": {},
   "outputs": [],
   "source": [
    "import numpy as np\n",
    "from algorithms.adaboost import (\n",
    "    AdaBoostClassifier,\n",
    "    train_test_split,\n",
    "    accuracy,\n",
    "    plot_alpha_curve,\n",
    "    plot_decision_boundary,\n",
    ")\n",
    "\n",
    "np.random.seed(2)\n",
    "A = np.random.randn(70, 2) * 0.55 + [1.5, 1.5]\n",
    "B = np.random.randn(65, 2) * 0.6 + [5.0, 4.5]\n",
    "X = np.vstack([A, B])\n",
    "y = np.array([-1] * len(A) + [1] * len(B))\n",
    "\n",
    "X_tr, X_te, y_tr, y_te = train_test_split(X, y, test_ratio=0.3)"
   ]
  },
  {
   "cell_type": "code",
   "execution_count": null,
   "id": "fc83e711",
   "metadata": {},
   "outputs": [],
   "source": [
    "ada = AdaBoostClassifier(n_estimators=40, learning_rate=1.0, verbose=True).fit(\n",
    "    X_tr, y_tr\n",
    ")\n",
    "plot_alpha_curve(ada)"
   ]
  },
  {
   "cell_type": "code",
   "execution_count": null,
   "id": "0e274961",
   "metadata": {},
   "outputs": [],
   "source": [
    "print(\"Train acc:\", ada.score_accuracy(X_tr, y_tr).round(3))\n",
    "print(\"Test  acc:\", ada.score_accuracy(X_te, y_te).round(3))\n",
    "\n",
    "plot_decision_boundary(ada, X_tr, y_tr, title=\"AdaBoost (40 decision stumps)\")"
   ]
  },
  {
   "cell_type": "code",
   "execution_count": null,
   "id": "35575f00",
   "metadata": {},
   "outputs": [],
   "source": [
    "new_pt = np.array([[3.0, 3.5]])\n",
    "prob = ada.predict_proba(new_pt)[0]\n",
    "print(f\"P(y=+1 | x) = {prob:.2%}\")"
   ]
  }
 ],
 "metadata": {
  "language_info": {
   "name": "python"
  }
 },
 "nbformat": 4,
 "nbformat_minor": 5
}
