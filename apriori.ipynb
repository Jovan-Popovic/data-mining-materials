{
 "cells": [
  {
   "cell_type": "code",
   "execution_count": 1,
   "id": "02011294",
   "metadata": {},
   "outputs": [],
   "source": [
    "from algorithms.apriori import (\n",
    "    apriori_frequent_itemsets,\n",
    "    generate_rules,\n",
    "    plot_itemset_supports,\n",
    ")\n",
    "\n",
    "# Toy market-basket data (10 tx, letters = items)\n",
    "transactions = [\n",
    "    [\"A\", \"B\", \"C\", \"D\"],\n",
    "    [\"B\", \"C\", \"E\"],\n",
    "    [\"A\", \"B\", \"C\", \"E\"],\n",
    "    [\"B\", \"E\"],\n",
    "    [\"A\", \"B\", \"C\", \"D\", \"E\"],\n",
    "    [\"A\", \"C\", \"D\"],\n",
    "    [\"B\", \"C\", \"E\"],\n",
    "    [\"A\", \"B\", \"C\", \"E\"],\n",
    "    [\"A\", \"B\", \"D\"],\n",
    "    [\"C\", \"E\"],\n",
    "]\n",
    "\n",
    "min_sup = 3  # absolute count\n",
    "min_conf = 0.6  # 60 %"
   ]
  },
  {
   "cell_type": "code",
   "execution_count": null,
   "id": "041806e5",
   "metadata": {},
   "outputs": [
    {
     "name": "stdout",
     "output_type": "stream",
     "text": [
      "k=2  candidates=10  freq=0\n",
      "\n",
      "Found 5 frequent itemsets (min_sup=3)\n"
     ]
    },
    {
     "ename": "TypeError",
     "evalue": "unsupported format string passed to set.__format__",
     "output_type": "error",
     "traceback": [
      "\u001b[31m---------------------------------------------------------------------------\u001b[39m",
      "\u001b[31mTypeError\u001b[39m                                 Traceback (most recent call last)",
      "\u001b[36mCell\u001b[39m\u001b[36m \u001b[39m\u001b[32mIn[2]\u001b[39m\u001b[32m, line 5\u001b[39m\n\u001b[32m      3\u001b[39m \u001b[38;5;28mprint\u001b[39m(\u001b[33mf\u001b[39m\u001b[33m\"\u001b[39m\u001b[38;5;130;01m\\n\u001b[39;00m\u001b[33mFound \u001b[39m\u001b[38;5;132;01m{\u001b[39;00m\u001b[38;5;28mlen\u001b[39m(freq_sets)\u001b[38;5;132;01m}\u001b[39;00m\u001b[33m frequent itemsets (min_sup=\u001b[39m\u001b[38;5;132;01m{\u001b[39;00mmin_sup\u001b[38;5;132;01m}\u001b[39;00m\u001b[33m)\u001b[39m\u001b[33m\"\u001b[39m)\n\u001b[32m      4\u001b[39m \u001b[38;5;28;01mfor\u001b[39;00m fs, sup \u001b[38;5;129;01min\u001b[39;00m freq_sets:\n\u001b[32m----> \u001b[39m\u001b[32m5\u001b[39m     \u001b[38;5;28mprint\u001b[39m(\u001b[33mf\u001b[39m\u001b[33m\"\u001b[39m\u001b[38;5;132;01m{\u001b[39;00m\u001b[38;5;28mset\u001b[39m(fs)\u001b[38;5;132;01m:\u001b[39;00m\u001b[33m<15\u001b[39m\u001b[38;5;132;01m}\u001b[39;00m\u001b[33m  sup=\u001b[39m\u001b[38;5;132;01m{\u001b[39;00msup\u001b[38;5;132;01m}\u001b[39;00m\u001b[33m\"\u001b[39m)\n",
      "\u001b[31mTypeError\u001b[39m: unsupported format string passed to set.__format__"
     ]
    }
   ],
   "source": [
    "freq_sets = apriori_frequent_itemsets(transactions, min_support=min_sup, verbose=True)\n",
    "\n",
    "print(f\"\\nFound {len(freq_sets)} frequent itemsets (min_sup={min_sup})\")\n",
    "for fs, sup in freq_sets:\n",
    "    print(set(fs), \" sup=\", sup)"
   ]
  },
  {
   "cell_type": "code",
   "execution_count": null,
   "id": "bd4e7488",
   "metadata": {},
   "outputs": [],
   "source": [
    "rules = generate_rules(freq_sets, min_conf=min_conf, n_transactions=len(transactions))\n",
    "\n",
    "print(f\"\\nRules (conf ≥ {min_conf:.0%}):\")\n",
    "for r in rules:\n",
    "    ant = \",\".join(sorted(r[\"antecedent\"]))\n",
    "    cons = \",\".join(sorted(r[\"consequent\"]))\n",
    "    print(\n",
    "        f\"{ant:>5}  →  {cons:<5}   \"\n",
    "        f\"sup={r['support']:.2f}  conf={r['confidence']:.2f}  lift={r['lift']:.2f}\"\n",
    "    )"
   ]
  },
  {
   "cell_type": "code",
   "execution_count": null,
   "id": "1e64c23e",
   "metadata": {},
   "outputs": [],
   "source": [
    "plot_itemset_supports(freq_sets, top_n=8)"
   ]
  }
 ],
 "metadata": {
  "kernelspec": {
   "display_name": "data-mining-scripts-py3.11",
   "language": "python",
   "name": "python3"
  },
  "language_info": {
   "codemirror_mode": {
    "name": "ipython",
    "version": 3
   },
   "file_extension": ".py",
   "mimetype": "text/x-python",
   "name": "python",
   "nbconvert_exporter": "python",
   "pygments_lexer": "ipython3",
   "version": "3.11.6"
  }
 },
 "nbformat": 4,
 "nbformat_minor": 5
}
