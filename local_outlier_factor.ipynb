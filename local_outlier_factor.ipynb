{
 "cells": [
  {
   "cell_type": "code",
   "execution_count": null,
   "id": "55828d5d",
   "metadata": {},
   "outputs": [],
   "source": [
    "import numpy as np\n",
    "from algorithms.local_outlier_factor import lof_scores, plot_lof_scores\n",
    "\n",
    "np.random.seed(3)\n",
    "cluster = np.random.randn(200, 2) * 0.4 + [4, 4]\n",
    "noise = np.random.uniform(low=0, high=8, size=(20, 2))\n",
    "X = np.vstack([cluster, noise])"
   ]
  },
  {
   "cell_type": "code",
   "execution_count": null,
   "id": "ee859b61",
   "metadata": {},
   "outputs": [],
   "source": [
    "lof = lof_scores(X, k=5)"
   ]
  },
  {
   "cell_type": "code",
   "execution_count": null,
   "id": "663b75b1",
   "metadata": {},
   "outputs": [],
   "source": [
    "plot_lof_scores(X, lof, thresh=1.5, title=\"LOF outliers (k=5, thresh=1.5)\")"
   ]
  },
  {
   "cell_type": "code",
   "execution_count": null,
   "id": "491cbb40",
   "metadata": {},
   "outputs": [],
   "source": [
    "idx = np.argsort(lof)[::-1][:10]\n",
    "for i in idx:\n",
    "    print(f\"index {i:3d}  LOF {lof[i]:.2f}  point {X[i]}\")"
   ]
  }
 ],
 "metadata": {
  "language_info": {
   "name": "python"
  }
 },
 "nbformat": 4,
 "nbformat_minor": 5
}
