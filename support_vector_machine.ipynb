{
 "cells": [
  {
   "cell_type": "code",
   "execution_count": null,
   "id": "70ff14b5",
   "metadata": {},
   "outputs": [],
   "source": [
    "import numpy as np\n",
    "from algorithms.support_vector_machine import SVM, train_test_split, plot_loss_curve, plot_decision_boundary\n",
    "\n",
    "# simple 2-D “exam-score” toy (class −1 / +1)\n",
    "np.random.seed(42)\n",
    "A = np.random.randn(50, 2) * 0.6 + [2, 2]  # class −1\n",
    "B = np.random.randn(50, 2) * 0.5 + [6, 5]  # class  +1\n",
    "X = np.vstack([A, B])\n",
    "y = np.array([-1] * len(A) + [1] * len(B))\n",
    "\n",
    "X_tr, X_te, y_tr, y_te = train_test_split(X, y, test_ratio=0.3)"
   ]
  },
  {
   "cell_type": "code",
   "execution_count": null,
   "id": "efd0f0e3",
   "metadata": {},
   "outputs": [],
   "source": [
    "svm = SVM(C=1.0, lr=0.02, epochs=400, batch=None, verbose=True).fit(X_tr, y_tr)\n",
    "plot_loss_curve(svm)"
   ]
  },
  {
   "cell_type": "code",
   "execution_count": null,
   "id": "13df3387",
   "metadata": {},
   "outputs": [],
   "source": [
    "print(\"Acc train:\", svm.score_accuracy(X_tr, y_tr).round(3))\n",
    "print(\"Acc test :\", svm.score_accuracy(X_te, y_te).round(3))\n",
    "\n",
    "plot_decision_boundary(svm, X_tr, y_tr)"
   ]
  },
  {
   "cell_type": "code",
   "execution_count": null,
   "id": "f7d1fa69",
   "metadata": {},
   "outputs": [],
   "source": [
    "new_pt = np.array([[4.0, 4.0]])\n",
    "pred = svm.predict(new_pt)[0]\n",
    "print(\"New point\", new_pt[0], \"→ class\", pred)"
   ]
  }
 ],
 "metadata": {
  "language_info": {
   "name": "python"
  }
 },
 "nbformat": 4,
 "nbformat_minor": 5
}
