{
 "cells": [
  {
   "cell_type": "code",
   "execution_count": null,
   "id": "34654666",
   "metadata": {},
   "outputs": [],
   "source": [
    "import pandas as pd\n",
    "from algorithms.decision_trees import fit_decision_tree, print_tree, plot_tree, predict\n",
    "\n",
    "# Classic “Play Tennis” (mixed categorical + numeric ‘Humidity’)\n",
    "data = [\n",
    "    (\"Sunny\", \"Hot\", 85, False, \"No\"),\n",
    "    (\"Sunny\", \"Hot\", 80, True, \"No\"),\n",
    "    (\"Overcast\", \"Hot\", 83, False, \"Yes\"),\n",
    "    (\"Rain\", \"Mild\", 70, False, \"Yes\"),\n",
    "    (\"Rain\", \"Cool\", 68, False, \"Yes\"),\n",
    "    (\"Rain\", \"Cool\", 65, True, \"No\"),\n",
    "    (\"Overcast\", \"Cool\", 64, True, \"Yes\"),\n",
    "    (\"Sunny\", \"Mild\", 72, False, \"No\"),\n",
    "    (\"Sunny\", \"Cool\", 69, False, \"Yes\"),\n",
    "    (\"Rain\", \"Mild\", 75, False, \"Yes\"),\n",
    "    (\"Sunny\", \"Mild\", 75, True, \"Yes\"),\n",
    "    (\"Overcast\", \"Mild\", 72, True, \"Yes\"),\n",
    "    (\"Overcast\", \"Hot\", 81, False, \"Yes\"),\n",
    "    (\"Rain\", \"Mild\", 71, True, \"No\"),\n",
    "]\n",
    "cols = [\"Outlook\", \"Temperature\", \"Humidity\", \"Windy\", \"Play\"]\n",
    "df = pd.DataFrame(data, columns=cols)\n",
    "\n",
    "target = \"Play\""
   ]
  },
  {
   "cell_type": "code",
   "execution_count": null,
   "id": "747a5fd8",
   "metadata": {},
   "outputs": [],
   "source": [
    "tree = fit_decision_tree(\n",
    "    df, target, max_depth=None, min_samples=1, verbose=True\n",
    ")  # shows entropy & gain"
   ]
  },
  {
   "cell_type": "code",
   "execution_count": null,
   "id": "00da1619",
   "metadata": {},
   "outputs": [],
   "source": [
    "print(\"\\n=== Final tree ===\")\n",
    "print_tree(tree)\n",
    "\n",
    "plot_tree(tree)  # quick matplotlib doodle"
   ]
  },
  {
   "cell_type": "code",
   "execution_count": null,
   "id": "9006acd6",
   "metadata": {},
   "outputs": [],
   "source": [
    "new = pd.DataFrame(\n",
    "    [{\"Outlook\": \"Sunny\", \"Temperature\": \"Mild\", \"Humidity\": 70, \"Windy\": False}]\n",
    ")\n",
    "print(\"Prediction:\", predict(tree, new).iloc[0])"
   ]
  }
 ],
 "metadata": {
  "language_info": {
   "name": "python"
  }
 },
 "nbformat": 4,
 "nbformat_minor": 5
}
