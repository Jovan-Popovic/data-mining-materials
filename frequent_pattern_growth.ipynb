{
 "cells": [
  {
   "cell_type": "code",
   "execution_count": 1,
   "id": "4f34d2ba",
   "metadata": {},
   "outputs": [],
   "source": [
    "from algorithms.frequent_pattern_growth import build_fp_tree, mine_fp_tree, generate_rules, draw_fp_tree\n",
    "\n",
    "# transakcije iz zadatka (ID-jevi su samo komentar)  :contentReference[oaicite:4]{index=4}\n",
    "transactions = [\n",
    "    [\"f\", \"a\", \"c\", \"d\", \"g\", \"i\", \"m\", \"p\"],  # 01\n",
    "    [\"a\", \"b\", \"c\", \"f\", \"l\", \"m\", \"o\"],  # 02\n",
    "    [\"b\", \"f\", \"h\", \"j\", \"o\"],  # 03\n",
    "    [\"b\", \"c\", \"k\", \"s\", \"p\"],  # 04\n",
    "    [\"a\", \"f\", \"c\", \"e\", \"i\", \"p\", \"m\", \"n\"],  # 05\n",
    "]\n",
    "min_support = 3\n",
    "min_conf = 0.40\n",
    "n_tx = len(transactions)"
   ]
  },
  {
   "cell_type": "code",
   "execution_count": 2,
   "id": "d9aa813f",
   "metadata": {},
   "outputs": [
    {
     "name": "stdout",
     "output_type": "stream",
     "text": [
      "Česti skupovi (min_sup = 3):\n",
      "{'c'}  sup=4\n",
      "{'f'}  sup=4\n",
      "{'a'}  sup=3\n",
      "{'b'}  sup=3\n",
      "{'m'}  sup=3\n",
      "{'p'}  sup=3\n",
      "{'c', 'a'}  sup=3\n",
      "{'f', 'a'}  sup=3\n",
      "{'f', 'c'}  sup=3\n",
      "{'m', 'a'}  sup=3\n",
      "{'m', 'c'}  sup=3\n",
      "{'m', 'f'}  sup=3\n",
      "{'c', 'p'}  sup=3\n",
      "{'f', 'c', 'a'}  sup=3\n",
      "{'m', 'c', 'a'}  sup=3\n",
      "{'m', 'f', 'a'}  sup=3\n",
      "{'m', 'f', 'c'}  sup=3\n",
      "{'m', 'f', 'c', 'a'}  sup=3\n"
     ]
    }
   ],
   "source": [
    "root, header = build_fp_tree(transactions, min_support)\n",
    "freq_sets = mine_fp_tree(header, min_support)\n",
    "# sortiraj po (dužina, -support)\n",
    "freq_sorted = sorted(freq_sets, key=lambda x: (len(x[0]), -x[1]))\n",
    "print(\"Česti skupovi (min_sup = 3):\")\n",
    "for items, sup in freq_sorted:\n",
    "    print(f\"{set(items)}  sup={sup}\")"
   ]
  },
  {
   "cell_type": "code",
   "execution_count": null,
   "id": "ea710533",
   "metadata": {},
   "outputs": [
    {
     "ename": "ImportError",
     "evalue": "requires pygraphviz http://pygraphviz.github.io/",
     "output_type": "error",
     "traceback": [
      "\u001b[31m---------------------------------------------------------------------------\u001b[39m",
      "\u001b[31mModuleNotFoundError\u001b[39m                       Traceback (most recent call last)",
      "\u001b[36mFile \u001b[39m\u001b[32m~/Projects/college/data_mining_scripts/.venv/lib/python3.11/site-packages/networkx/drawing/nx_agraph.py:300\u001b[39m, in \u001b[36mpygraphviz_layout\u001b[39m\u001b[34m(G, prog, root, args)\u001b[39m\n\u001b[32m    299\u001b[39m \u001b[38;5;28;01mtry\u001b[39;00m:\n\u001b[32m--> \u001b[39m\u001b[32m300\u001b[39m     \u001b[38;5;28;01mimport\u001b[39;00m\u001b[38;5;250m \u001b[39m\u001b[34;01mpygraphviz\u001b[39;00m\n\u001b[32m    301\u001b[39m \u001b[38;5;28;01mexcept\u001b[39;00m \u001b[38;5;167;01mImportError\u001b[39;00m \u001b[38;5;28;01mas\u001b[39;00m err:\n",
      "\u001b[31mModuleNotFoundError\u001b[39m: No module named 'pygraphviz'",
      "\nThe above exception was the direct cause of the following exception:\n",
      "\u001b[31mImportError\u001b[39m                               Traceback (most recent call last)",
      "\u001b[36mCell\u001b[39m\u001b[36m \u001b[39m\u001b[32mIn[3]\u001b[39m\u001b[32m, line 1\u001b[39m\n\u001b[32m----> \u001b[39m\u001b[32m1\u001b[39m \u001b[43mdraw_fp_tree\u001b[49m\u001b[43m(\u001b[49m\u001b[43mroot\u001b[49m\u001b[43m)\u001b[49m  \u001b[38;5;66;03m# ili draw_fp_tree(root, \"fp_tree.png\")\u001b[39;00m\n",
      "\u001b[36mFile \u001b[39m\u001b[32m~/Projects/college/data_mining_scripts/algorithms/frequent_pattern_growth.py:166\u001b[39m, in \u001b[36mdraw_fp_tree\u001b[39m\u001b[34m(root, savepath)\u001b[39m\n\u001b[32m    163\u001b[39m         add(child)\n\u001b[32m    165\u001b[39m add(root)\n\u001b[32m--> \u001b[39m\u001b[32m166\u001b[39m pos = \u001b[43mnx\u001b[49m\u001b[43m.\u001b[49m\u001b[43mnx_agraph\u001b[49m\u001b[43m.\u001b[49m\u001b[43mgraphviz_layout\u001b[49m\u001b[43m(\u001b[49m\u001b[43mG\u001b[49m\u001b[43m,\u001b[49m\u001b[43m \u001b[49m\u001b[43mprog\u001b[49m\u001b[43m=\u001b[49m\u001b[33;43m\"\u001b[39;49m\u001b[33;43mdot\u001b[39;49m\u001b[33;43m\"\u001b[39;49m\u001b[43m)\u001b[49m\n\u001b[32m    167\u001b[39m labels = {id_: d[\u001b[33m\"\u001b[39m\u001b[33mlabel\u001b[39m\u001b[33m\"\u001b[39m] \u001b[38;5;28;01mfor\u001b[39;00m id_, d \u001b[38;5;129;01min\u001b[39;00m G.edges.items()}\n\u001b[32m    168\u001b[39m nx.draw(G, pos, with_labels=\u001b[38;5;28;01mFalse\u001b[39;00m, arrows=\u001b[38;5;28;01mTrue\u001b[39;00m)\n",
      "\u001b[36mFile \u001b[39m\u001b[32m~/Projects/college/data_mining_scripts/.venv/lib/python3.11/site-packages/networkx/drawing/nx_agraph.py:256\u001b[39m, in \u001b[36mgraphviz_layout\u001b[39m\u001b[34m(G, prog, root, args)\u001b[39m\n\u001b[32m    225\u001b[39m \u001b[38;5;28;01mdef\u001b[39;00m\u001b[38;5;250m \u001b[39m\u001b[34mgraphviz_layout\u001b[39m(G, prog=\u001b[33m\"\u001b[39m\u001b[33mneato\u001b[39m\u001b[33m\"\u001b[39m, root=\u001b[38;5;28;01mNone\u001b[39;00m, args=\u001b[33m\"\u001b[39m\u001b[33m\"\u001b[39m):\n\u001b[32m    226\u001b[39m \u001b[38;5;250m    \u001b[39m\u001b[33;03m\"\"\"Create node positions for G using Graphviz.\u001b[39;00m\n\u001b[32m    227\u001b[39m \n\u001b[32m    228\u001b[39m \u001b[33;03m    Parameters\u001b[39;00m\n\u001b[32m   (...)\u001b[39m\u001b[32m    254\u001b[39m \u001b[33;03m    see https://gitlab.com/graphviz/graphviz/-/issues/1767 for more info.\u001b[39;00m\n\u001b[32m    255\u001b[39m \u001b[33;03m    \"\"\"\u001b[39;00m\n\u001b[32m--> \u001b[39m\u001b[32m256\u001b[39m     \u001b[38;5;28;01mreturn\u001b[39;00m \u001b[43mpygraphviz_layout\u001b[49m\u001b[43m(\u001b[49m\u001b[43mG\u001b[49m\u001b[43m,\u001b[49m\u001b[43m \u001b[49m\u001b[43mprog\u001b[49m\u001b[43m=\u001b[49m\u001b[43mprog\u001b[49m\u001b[43m,\u001b[49m\u001b[43m \u001b[49m\u001b[43mroot\u001b[49m\u001b[43m=\u001b[49m\u001b[43mroot\u001b[49m\u001b[43m,\u001b[49m\u001b[43m \u001b[49m\u001b[43margs\u001b[49m\u001b[43m=\u001b[49m\u001b[43margs\u001b[49m\u001b[43m)\u001b[49m\n",
      "\u001b[36mFile \u001b[39m\u001b[32m~/Projects/college/data_mining_scripts/.venv/lib/python3.11/site-packages/networkx/drawing/nx_agraph.py:302\u001b[39m, in \u001b[36mpygraphviz_layout\u001b[39m\u001b[34m(G, prog, root, args)\u001b[39m\n\u001b[32m    300\u001b[39m     \u001b[38;5;28;01mimport\u001b[39;00m\u001b[38;5;250m \u001b[39m\u001b[34;01mpygraphviz\u001b[39;00m\n\u001b[32m    301\u001b[39m \u001b[38;5;28;01mexcept\u001b[39;00m \u001b[38;5;167;01mImportError\u001b[39;00m \u001b[38;5;28;01mas\u001b[39;00m err:\n\u001b[32m--> \u001b[39m\u001b[32m302\u001b[39m     \u001b[38;5;28;01mraise\u001b[39;00m \u001b[38;5;167;01mImportError\u001b[39;00m(\u001b[33m\"\u001b[39m\u001b[33mrequires pygraphviz http://pygraphviz.github.io/\u001b[39m\u001b[33m\"\u001b[39m) \u001b[38;5;28;01mfrom\u001b[39;00m\u001b[38;5;250m \u001b[39m\u001b[34;01merr\u001b[39;00m\n\u001b[32m    303\u001b[39m \u001b[38;5;28;01mif\u001b[39;00m root \u001b[38;5;129;01mis\u001b[39;00m \u001b[38;5;129;01mnot\u001b[39;00m \u001b[38;5;28;01mNone\u001b[39;00m:\n\u001b[32m    304\u001b[39m     args += \u001b[33mf\u001b[39m\u001b[33m\"\u001b[39m\u001b[33m-Groot=\u001b[39m\u001b[38;5;132;01m{\u001b[39;00mroot\u001b[38;5;132;01m}\u001b[39;00m\u001b[33m\"\u001b[39m\n",
      "\u001b[31mImportError\u001b[39m: requires pygraphviz http://pygraphviz.github.io/"
     ]
    }
   ],
   "source": [
    "root, header = build_fp_tree(transactions, min_support=3)\n",
    "draw_fp_tree(root)"
   ]
  },
  {
   "cell_type": "code",
   "execution_count": null,
   "id": "88c30786",
   "metadata": {},
   "outputs": [],
   "source": [
    "rules = generate_rules(freq_sets, min_conf=min_conf, n_transactions=n_tx)\n",
    "print(f\"Pravila (min_conf = {min_conf:.0%})\")\n",
    "for ant, cons, sup, conf in rules:\n",
    "    print(f\"{set(ant)} → {set(cons)}   sup={sup}  conf={conf:.0%}\")"
   ]
  }
 ],
 "metadata": {
  "kernelspec": {
   "display_name": "data-mining-scripts-py3.11",
   "language": "python",
   "name": "python3"
  },
  "language_info": {
   "codemirror_mode": {
    "name": "ipython",
    "version": 3
   },
   "file_extension": ".py",
   "mimetype": "text/x-python",
   "name": "python",
   "nbconvert_exporter": "python",
   "pygments_lexer": "ipython3",
   "version": "3.11.6"
  }
 },
 "nbformat": 4,
 "nbformat_minor": 5
}
