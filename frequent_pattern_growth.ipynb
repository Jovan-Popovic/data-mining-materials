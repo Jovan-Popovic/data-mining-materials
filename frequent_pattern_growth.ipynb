{
 "cells": [
  {
   "cell_type": "code",
   "execution_count": 13,
   "id": "4f34d2ba",
   "metadata": {},
   "outputs": [],
   "source": [
    "from algorithms.frequent_pattern_growth import build_fp_tree, mine_fp_tree, generate_rules, draw_fp_tree\n",
    "\n",
    "# transakcije iz zadatka (ID-jevi su samo komentar)  :contentReference[oaicite:4]{index=4}\n",
    "transactions = [\n",
    "    [\"f\", \"a\", \"c\", \"d\", \"g\", \"i\", \"m\", \"p\"],  # 01\n",
    "    [\"a\", \"b\", \"c\", \"f\", \"l\", \"m\", \"o\"],  # 02\n",
    "    [\"b\", \"f\", \"h\", \"j\", \"o\"],  # 03\n",
    "    [\"b\", \"c\", \"k\", \"s\", \"p\"],  # 04\n",
    "    [\"a\", \"f\", \"c\", \"e\", \"i\", \"p\", \"m\", \"n\"],  # 05\n",
    "]\n",
    "min_support = 3\n",
    "min_conf = 0.40\n",
    "n_tx = len(transactions)"
   ]
  },
  {
   "cell_type": "code",
   "execution_count": 14,
   "id": "d9aa813f",
   "metadata": {},
   "outputs": [
    {
     "name": "stdout",
     "output_type": "stream",
     "text": [
      "Česti skupovi (min_sup = 3):\n",
      "{'c'}  sup=4\n",
      "{'f'}  sup=4\n",
      "{'a'}  sup=3\n",
      "{'b'}  sup=3\n",
      "{'m'}  sup=3\n",
      "{'p'}  sup=3\n",
      "{'c', 'a'}  sup=3\n",
      "{'f', 'a'}  sup=3\n",
      "{'f', 'c'}  sup=3\n",
      "{'m', 'a'}  sup=3\n",
      "{'m', 'c'}  sup=3\n",
      "{'m', 'f'}  sup=3\n",
      "{'c', 'p'}  sup=3\n",
      "{'f', 'c', 'a'}  sup=3\n",
      "{'m', 'c', 'a'}  sup=3\n",
      "{'m', 'a', 'f'}  sup=3\n",
      "{'m', 'c', 'f'}  sup=3\n",
      "{'m', 'c', 'a', 'f'}  sup=3\n"
     ]
    }
   ],
   "source": [
    "root, header = build_fp_tree(transactions, min_support)\n",
    "freq_sets = mine_fp_tree(header, min_support)\n",
    "# sortiraj po (dužina, -support)\n",
    "freq_sorted = sorted(freq_sets, key=lambda x: (len(x[0]), -x[1]))\n",
    "print(\"Česti skupovi (min_sup = 3):\")\n",
    "for items, sup in freq_sorted:\n",
    "    print(f\"{set(items)}  sup={sup}\")"
   ]
  },
  {
   "cell_type": "code",
   "execution_count": 15,
   "id": "ea710533",
   "metadata": {},
   "outputs": [
    {
     "data": {
      "image/png": "[encoded data removed]",
      "text/plain": [
       "<Figure size 600x400 with 1 Axes>"
      ]
     },
     "metadata": {},
     "output_type": "display_data"
    }
   ],
   "source": [
    "root, header = build_fp_tree(transactions, min_support=3)\n",
    "draw_fp_tree(root)"
   ]
  },
  {
   "cell_type": "code",
   "execution_count": 16,
   "id": "88c30786",
   "metadata": {},
   "outputs": [
    {
     "name": "stdout",
     "output_type": "stream",
     "text": [
      "Pravila (min_conf = 40%)\n",
      "{'a'} → {'c'}   sup=3  conf=100%\n",
      "{'c'} → {'a'}   sup=3  conf=75%\n",
      "{'a'} → {'f'}   sup=3  conf=100%\n",
      "{'f'} → {'a'}   sup=3  conf=75%\n",
      "{'a'} → {'f', 'c'}   sup=3  conf=100%\n",
      "{'f'} → {'c', 'a'}   sup=3  conf=75%\n",
      "{'c'} → {'f', 'a'}   sup=3  conf=75%\n",
      "{'f', 'a'} → {'c'}   sup=3  conf=100%\n",
      "{'c', 'a'} → {'f'}   sup=3  conf=100%\n",
      "{'f', 'c'} → {'a'}   sup=3  conf=100%\n",
      "{'f'} → {'c'}   sup=3  conf=75%\n",
      "{'c'} → {'f'}   sup=3  conf=75%\n",
      "{'m'} → {'a'}   sup=3  conf=100%\n",
      "{'a'} → {'m'}   sup=3  conf=100%\n",
      "{'m'} → {'c'}   sup=3  conf=100%\n",
      "{'c'} → {'m'}   sup=3  conf=75%\n",
      "{'m'} → {'c', 'a'}   sup=3  conf=100%\n",
      "{'c'} → {'m', 'a'}   sup=3  conf=75%\n",
      "{'a'} → {'m', 'c'}   sup=3  conf=100%\n",
      "{'m', 'c'} → {'a'}   sup=3  conf=100%\n",
      "{'m', 'a'} → {'c'}   sup=3  conf=100%\n",
      "{'c', 'a'} → {'m'}   sup=3  conf=100%\n",
      "{'m'} → {'f'}   sup=3  conf=100%\n",
      "{'f'} → {'m'}   sup=3  conf=75%\n",
      "{'m'} → {'f', 'a'}   sup=3  conf=100%\n",
      "{'f'} → {'m', 'a'}   sup=3  conf=75%\n",
      "{'a'} → {'f', 'm'}   sup=3  conf=100%\n",
      "{'m', 'f'} → {'a'}   sup=3  conf=100%\n",
      "{'m', 'a'} → {'f'}   sup=3  conf=100%\n",
      "{'f', 'a'} → {'m'}   sup=3  conf=100%\n",
      "{'m'} → {'f', 'c'}   sup=3  conf=100%\n",
      "{'f'} → {'m', 'c'}   sup=3  conf=75%\n",
      "{'c'} → {'f', 'm'}   sup=3  conf=75%\n",
      "{'m', 'f'} → {'c'}   sup=3  conf=100%\n",
      "{'m', 'c'} → {'f'}   sup=3  conf=100%\n",
      "{'f', 'c'} → {'m'}   sup=3  conf=100%\n",
      "{'m'} → {'f', 'c', 'a'}   sup=3  conf=100%\n",
      "{'f'} → {'m', 'c', 'a'}   sup=3  conf=75%\n",
      "{'c'} → {'f', 'm', 'a'}   sup=3  conf=75%\n",
      "{'a'} → {'f', 'c', 'm'}   sup=3  conf=100%\n",
      "{'m', 'f'} → {'c', 'a'}   sup=3  conf=100%\n",
      "{'m', 'c'} → {'f', 'a'}   sup=3  conf=100%\n",
      "{'m', 'a'} → {'f', 'c'}   sup=3  conf=100%\n",
      "{'f', 'c'} → {'m', 'a'}   sup=3  conf=100%\n",
      "{'f', 'a'} → {'m', 'c'}   sup=3  conf=100%\n",
      "{'c', 'a'} → {'f', 'm'}   sup=3  conf=100%\n",
      "{'m', 'c', 'f'} → {'a'}   sup=3  conf=100%\n",
      "{'m', 'a', 'f'} → {'c'}   sup=3  conf=100%\n",
      "{'m', 'c', 'a'} → {'f'}   sup=3  conf=100%\n",
      "{'f', 'c', 'a'} → {'m'}   sup=3  conf=100%\n",
      "{'p'} → {'c'}   sup=3  conf=100%\n",
      "{'c'} → {'p'}   sup=3  conf=75%\n"
     ]
    }
   ],
   "source": [
    "rules = generate_rules(freq_sets, min_conf=min_conf, n_transactions=n_tx)\n",
    "print(f\"Pravila (min_conf = {min_conf:.0%})\")\n",
    "for ant, cons, sup, conf in rules:\n",
    "    print(f\"{set(ant)} → {set(cons)}   sup={sup}  conf={conf:.0%}\")"
   ]
  }
 ],
 "metadata": {
  "kernelspec": {
   "display_name": "data-mining-scripts-py3.11",
   "language": "python",
   "name": "python3"
  },
  "language_info": {
   "codemirror_mode": {
    "name": "ipython",
    "version": 3
   },
   "file_extension": ".py",
   "mimetype": "text/x-python",
   "name": "python",
   "nbconvert_exporter": "python",
   "pygments_lexer": "ipython3",
   "version": "3.11.6"
  }
 },
 "nbformat": 4,
 "nbformat_minor": 5
}
