{
 "cells": [
  {
   "cell_type": "code",
   "execution_count": null,
   "id": "a60c4738",
   "metadata": {},
   "outputs": [],
   "source": [
    "import numpy as np\n",
    "from algorithms.k_medoids import KMedoids, elbow_plot, plot_clusters_2d\n",
    "\n",
    "np.random.seed(11)\n",
    "A = np.random.randn(60, 2) * 0.5 + [2, 2]\n",
    "B = np.random.randn(55, 2) * 0.45 + [6, 6]\n",
    "noise = np.random.uniform(0, 8, (15, 2))\n",
    "X = np.vstack([A, B, noise])"
   ]
  },
  {
   "cell_type": "code",
   "execution_count": null,
   "id": "9e119ba6",
   "metadata": {},
   "outputs": [],
   "source": [
    "elbow_plot(X, k_range=range(1, 8), max_iter=50)"
   ]
  },
  {
   "cell_type": "code",
   "execution_count": null,
   "id": "4550bccd",
   "metadata": {},
   "outputs": [],
   "source": [
    "km = KMedoids(k=2, max_iter=100, init=\"k++\", verbose=True).fit(X)\n",
    "print(\"Final SSE:\", km.inertia_)"
   ]
  },
  {
   "cell_type": "code",
   "execution_count": null,
   "id": "a2da956a",
   "metadata": {},
   "outputs": [],
   "source": [
    "plot_clusters_2d(km, X)"
   ]
  }
 ],
 "metadata": {
  "language_info": {
   "name": "python"
  }
 },
 "nbformat": 4,
 "nbformat_minor": 5
}
