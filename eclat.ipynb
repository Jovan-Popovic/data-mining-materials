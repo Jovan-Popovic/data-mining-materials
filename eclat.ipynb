{
 "cells": [
  {
   "cell_type": "code",
   "execution_count": 6,
   "id": "74a9141a",
   "metadata": {},
   "outputs": [],
   "source": [
    "from algorithms.eclat import eclat, gen_rules\n",
    "\n",
    "transactions = [\n",
    "    [\"Milk\", \"Bread\", \"Beer\"],\n",
    "    [\"Bread\", \"Diaper\", \"Eggs\"],\n",
    "    [\"Milk\", \"Diaper\", \"Beer\", \"Cola\"],\n",
    "    [\"Bread\", \"Milk\", \"Diaper\", \"Beer\"],\n",
    "    [\"Bread\", \"Milk\", \"Cola\"],\n",
    "]\n",
    "minsup = 2"
   ]
  },
  {
   "cell_type": "code",
   "execution_count": 7,
   "id": "e4fe44c2",
   "metadata": {},
   "outputs": [
    {
     "name": "stdout",
     "output_type": "stream",
     "text": [
      "Frequent itemsets:\n",
      "{Bread}               sup=4\n",
      "{Milk}                sup=4\n",
      "{Diaper}              sup=3\n",
      "{Beer}                sup=3\n",
      "{Cola}                sup=2\n",
      "{Bread,Milk}          sup=3\n",
      "{Milk,Beer}           sup=3\n",
      "{Bread,Diaper}        sup=2\n",
      "{Bread,Beer}          sup=2\n",
      "{Milk,Diaper}         sup=2\n",
      "{Milk,Cola}           sup=2\n",
      "{Diaper,Beer}         sup=2\n",
      "{Bread,Milk,Beer}     sup=2\n",
      "{Milk,Diaper,Beer}    sup=2\n"
     ]
    }
   ],
   "source": [
    "L = eclat(transactions, minsup=minsup)\n",
    "print(\"Frequent itemsets:\")\n",
    "for fs, sup in L:\n",
    "    items = \"{\" + \",\".join(fs) + \"}\"  # eksplicitan string\n",
    "    # ili: f\"{set(fs)!s:<20}\"  (kraća varijanta)\n",
    "    print(f\"{items:<20}  sup={sup}\")"
   ]
  },
  {
   "cell_type": "code",
   "execution_count": 8,
   "id": "5671f100",
   "metadata": {},
   "outputs": [
    {
     "ename": "KeyError",
     "evalue": "('Beer', 'Bread')",
     "output_type": "error",
     "traceback": [
      "\u001b[31m---------------------------------------------------------------------------\u001b[39m",
      "\u001b[31mKeyError\u001b[39m                                  Traceback (most recent call last)",
      "\u001b[36mCell\u001b[39m\u001b[36m \u001b[39m\u001b[32mIn[8]\u001b[39m\u001b[32m, line 1\u001b[39m\n\u001b[32m----> \u001b[39m\u001b[32m1\u001b[39m rules = \u001b[43mgen_rules\u001b[49m\u001b[43m(\u001b[49m\u001b[43mL\u001b[49m\u001b[43m,\u001b[49m\u001b[43m \u001b[49m\u001b[43mminconf\u001b[49m\u001b[43m=\u001b[49m\u001b[32;43m0.6\u001b[39;49m\u001b[43m)\u001b[49m\n\u001b[32m      2\u001b[39m \u001b[38;5;28;01mfor\u001b[39;00m ante, cons, sup, conf \u001b[38;5;129;01min\u001b[39;00m rules:\n\u001b[32m      3\u001b[39m     \u001b[38;5;28mprint\u001b[39m(\u001b[33mf\u001b[39m\u001b[33m\"\u001b[39m\u001b[38;5;132;01m{\u001b[39;00m\u001b[38;5;28mset\u001b[39m(ante)\u001b[38;5;132;01m}\u001b[39;00m\u001b[33m ⇒ \u001b[39m\u001b[38;5;132;01m{\u001b[39;00m\u001b[38;5;28mset\u001b[39m(cons)\u001b[38;5;132;01m}\u001b[39;00m\u001b[33m   sup=\u001b[39m\u001b[38;5;132;01m{\u001b[39;00msup\u001b[38;5;132;01m}\u001b[39;00m\u001b[33m  conf=\u001b[39m\u001b[38;5;132;01m{\u001b[39;00mconf\u001b[38;5;132;01m:\u001b[39;00m\u001b[33m.2f\u001b[39m\u001b[38;5;132;01m}\u001b[39;00m\u001b[33m\"\u001b[39m)\n",
      "\u001b[36mFile \u001b[39m\u001b[32m~/Projects/college/data_mining_scripts/algorithms/eclat.py:62\u001b[39m, in \u001b[36mgen_rules\u001b[39m\u001b[34m(freq_itemsets, minconf)\u001b[39m\n\u001b[32m     60\u001b[39m \u001b[38;5;28;01mfor\u001b[39;00m ante \u001b[38;5;129;01min\u001b[39;00m combinations(itemset, i):\n\u001b[32m     61\u001b[39m     cons = \u001b[38;5;28mtuple\u001b[39m(\u001b[38;5;28msorted\u001b[39m(\u001b[38;5;28mset\u001b[39m(itemset) - \u001b[38;5;28mset\u001b[39m(ante)))\n\u001b[32m---> \u001b[39m\u001b[32m62\u001b[39m     conf = sup / \u001b[43msupp_map\u001b[49m\u001b[43m[\u001b[49m\u001b[38;5;28;43mtuple\u001b[39;49m\u001b[43m(\u001b[49m\u001b[38;5;28;43msorted\u001b[39;49m\u001b[43m(\u001b[49m\u001b[43mante\u001b[49m\u001b[43m)\u001b[49m\u001b[43m)\u001b[49m\u001b[43m]\u001b[49m\n\u001b[32m     63\u001b[39m     \u001b[38;5;28;01mif\u001b[39;00m conf >= minconf:\n\u001b[32m     64\u001b[39m         rules.append((\u001b[38;5;28mtuple\u001b[39m(\u001b[38;5;28msorted\u001b[39m(ante)), cons, sup, conf))\n",
      "\u001b[31mKeyError\u001b[39m: ('Beer', 'Bread')"
     ]
    }
   ],
   "source": [
    "rules = gen_rules(L, minconf=0.6)\n",
    "for ante, cons, sup, conf in rules:\n",
    "    print(f\"{set(ante)} ⇒ {set(cons)}   sup={sup}  conf={conf:.2f}\")"
   ]
  }
 ],
 "metadata": {
  "kernelspec": {
   "display_name": "data-mining-scripts-py3.11",
   "language": "python",
   "name": "python3"
  },
  "language_info": {
   "codemirror_mode": {
    "name": "ipython",
    "version": 3
   },
   "file_extension": ".py",
   "mimetype": "text/x-python",
   "name": "python",
   "nbconvert_exporter": "python",
   "pygments_lexer": "ipython3",
   "version": "3.11.6"
  }
 },
 "nbformat": 4,
 "nbformat_minor": 5
}
