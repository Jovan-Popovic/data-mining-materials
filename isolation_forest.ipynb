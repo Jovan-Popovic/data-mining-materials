{
 "cells": [
  {
   "cell_type": "code",
   "execution_count": null,
   "id": "a0e54e8e",
   "metadata": {},
   "outputs": [],
   "source": [
    "import numpy as np\n",
    "from algorithms.isolation_forest import IsolationForest, plot_iforest_scores\n",
    "\n",
    "np.random.seed(3)\n",
    "cluster = np.random.randn(200, 2) * 0.4 + [4, 4]\n",
    "noise = np.random.uniform(low=0, high=8, size=(20, 2))\n",
    "X = np.vstack([cluster, noise])"
   ]
  },
  {
   "cell_type": "code",
   "execution_count": null,
   "id": "f3e3643b",
   "metadata": {},
   "outputs": [],
   "source": [
    "ifor = IsolationForest(n_trees=100, sample_size=128, verbose=True).fit(X)\n",
    "scores = ifor.score_samples(X)"
   ]
  },
  {
   "cell_type": "code",
   "execution_count": null,
   "id": "1513a579",
   "metadata": {},
   "outputs": [],
   "source": [
    "plot_iforest_scores(X, scores, thresh=0.6, title=\"Isolation Forest outliers\")"
   ]
  },
  {
   "cell_type": "code",
   "execution_count": null,
   "id": "c69e00fa",
   "metadata": {},
   "outputs": [],
   "source": [
    "idx = np.argsort(scores)[::-1][:10]\n",
    "for i in idx:\n",
    "    print(f\"index {i:3d}  score {scores[i]:.3f}  point {X[i]}\")"
   ]
  }
 ],
 "metadata": {
  "language_info": {
   "name": "python"
  }
 },
 "nbformat": 4,
 "nbformat_minor": 5
}
