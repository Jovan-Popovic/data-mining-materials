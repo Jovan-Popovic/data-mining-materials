{
 "cells": [
  {
   "cell_type": "code",
   "execution_count": null,
   "id": "182ed8d9",
   "metadata": {},
   "outputs": [],
   "source": [
    "import numpy as np\n",
    "from algorithms.random_forest import (\n",
    "    RandomForestClassifier,\n",
    "    train_test_split,\n",
    "    accuracy,\n",
    "    plot_decision_boundary,\n",
    ")\n",
    "\n",
    "# two blobs, a bit noisy\n",
    "np.random.seed(0)\n",
    "A = np.random.randn(120, 2) * 0.5 + [2, 2]\n",
    "B = np.random.randn(110, 2) * 0.6 + [6, 6]\n",
    "X = np.vstack([A, B])\n",
    "y = np.array([0] * len(A) + [1] * len(B))\n",
    "\n",
    "X_tr, X_te, y_tr, y_te = train_test_split(X, y, test_ratio=0.3)"
   ]
  },
  {
   "cell_type": "code",
   "execution_count": null,
   "id": "40c65526",
   "metadata": {},
   "outputs": [],
   "source": [
    "rf = RandomForestClassifier(n_estimators=30, max_depth=8, verbose=True, oob=True).fit(\n",
    "    X_tr, y_tr\n",
    ")\n",
    "\n",
    "print(\"\\nOOB accuracy :\", rf.oob_score(X_tr, y_tr).round(3))"
   ]
  },
  {
   "cell_type": "code",
   "execution_count": null,
   "id": "caaeaabe",
   "metadata": {},
   "outputs": [],
   "source": [
    "print(\"Test accuracy:\", accuracy(y_te, rf.predict(X_te)).round(3))\n",
    "plot_decision_boundary(rf, X_tr, y_tr, title=\"Random Forest (30 trees)\")"
   ]
  },
  {
   "cell_type": "code",
   "execution_count": null,
   "id": "00398b85",
   "metadata": {},
   "outputs": [],
   "source": [
    "from collections import Counter\n",
    "\n",
    "feat_counts = Counter()\n",
    "for f_idx in rf.features_:  # which feature set each tree saw\n",
    "    for f in f_idx:\n",
    "        feat_counts[f] += 1\n",
    "print(\"Feature usage count:\", feat_counts)"
   ]
  }
 ],
 "metadata": {
  "language_info": {
   "name": "python"
  }
 },
 "nbformat": 4,
 "nbformat_minor": 5
}
