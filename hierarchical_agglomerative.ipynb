{
 "cells": [
  {
   "cell_type": "code",
   "execution_count": null,
   "id": "1742787b",
   "metadata": {},
   "outputs": [],
   "source": [
    "import numpy as np\n",
    "from algorithms.hierarchical_agglomerative import HAC, plot_dendrogram, cluster_cut\n",
    "\n",
    "np.random.seed(1)\n",
    "X = np.vstack(\n",
    "    [\n",
    "        np.random.randn(6, 2) * 0.3 + [1, 2],\n",
    "        np.random.randn(6, 2) * 0.3 + [5, 2],\n",
    "        np.random.randn(6, 2) * 0.3 + [3, 5],\n",
    "    ]\n",
    ")"
   ]
  },
  {
   "cell_type": "code",
   "execution_count": null,
   "id": "f40d6002",
   "metadata": {},
   "outputs": [],
   "source": [
    "hac = HAC(linkage=\"average\").fit(X)\n",
    "plot_dendrogram(hac.Z_)"
   ]
  },
  {
   "cell_type": "code",
   "execution_count": null,
   "id": "b0f0c1b5",
   "metadata": {},
   "outputs": [],
   "source": [
    "labels = cluster_cut(hac.Z_, n_clusters=3)\n",
    "for c in range(3):\n",
    "    print(f\"Cluster {c}: indices {np.where(labels==c)[0]}\")"
   ]
  },
  {
   "cell_type": "code",
   "execution_count": null,
   "id": "f5efa077",
   "metadata": {},
   "outputs": [],
   "source": [
    "import matplotlib.pyplot as plt\n",
    "\n",
    "cmap = plt.cm.get_cmap(\"tab10\", 3)\n",
    "plt.figure(figsize=(4, 4))\n",
    "for c in range(3):\n",
    "    plt.scatter(*X[labels == c].T, color=cmap(c), label=f\"c{c}\")\n",
    "plt.legend()\n",
    "plt.grid(True)\n",
    "plt.show()"
   ]
  }
 ],
 "metadata": {
  "language_info": {
   "name": "python"
  }
 },
 "nbformat": 4,
 "nbformat_minor": 5
}
