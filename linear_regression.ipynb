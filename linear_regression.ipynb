{
 "cells": [
  {
   "cell_type": "code",
   "execution_count": null,
   "id": "c1bc484d",
   "metadata": {},
   "outputs": [],
   "source": [
    "import numpy as np\n",
    "import pandas as pd\n",
    "\n",
    "from algorithms.linear_regression import (\n",
    "    train_test_split,\n",
    "    LinearReg,\n",
    "    plot_loss_curve,\n",
    "    plot_2d_regression,\n",
    "    plot_2d_slice,\n",
    ")\n",
    "\n",
    "# ── Toy “compile-time” dataset (CPU GHz, RAM GB → time [s]) ──────────\n",
    "data = np.array(\n",
    "    [\n",
    "        [2.0, 4, 48],\n",
    "        [2.2, 4, 45],\n",
    "        [2.4, 8, 39],\n",
    "        [2.5, 8, 38],\n",
    "        [2.7, 16, 32],\n",
    "        [3.0, 16, 29],\n",
    "        [3.2, 32, 25],\n",
    "        [3.4, 32, 23],\n",
    "        [3.6, 32, 22],\n",
    "        [3.8, 32, 21],\n",
    "    ]\n",
    ")\n",
    "\n",
    "X, y = data[:, :2], data[:, 2]\n",
    "X_tr, X_te, y_tr, y_te = train_test_split(X, y, test_ratio=0.3)\n",
    "\n",
    "print(\"Train-shape:\", X_tr.shape, \"  Test-shape:\", X_te.shape)"
   ]
  },
  {
   "cell_type": "code",
   "execution_count": null,
   "id": "30ec8696",
   "metadata": {},
   "outputs": [
    {
     "name": "stdout",
     "output_type": "stream",
     "text": [
      "θ (closed form): [ 7.71507334e+01 -1.50682853e+01 -4.02756702e-02]\n",
      "R² train: 0.9768591112609828\n",
      "R² test : 0.7513681944165531\n"
     ]
    }
   ],
   "source": [
    "model_cf = LinearReg(method=\"normal\").fit(X_tr, y_tr)\n",
    "\n",
    "print(\"θ (closed form) =\", model_cf.theta_)\n",
    "print(\"R² train =\", model_cf.score_R2(X_tr, y_tr).round(3))\n",
    "print(\"R² test  =\", model_cf.score_R2(X_te, y_te).round(3))"
   ]
  },
  {
   "cell_type": "code",
   "execution_count": null,
   "id": "e016acb1",
   "metadata": {},
   "outputs": [
    {
     "name": "stdout",
     "output_type": "stream",
     "text": [
      "epoch 20    loss=53895890385673750601502898176086243278848.0000\n",
      "epoch 40    loss=6421527284710854562726458890602186589982711839331951420601282226249107079430144.0000\n",
      "epoch 60    loss=765104952774788478014180185106701417152524996309362835692324420806361963533237682618510845486882926757434140999548928.0000\n",
      "epoch 80    loss=91159869421448659567600934208419906228297017179137551161161463976719567649900446850455497309910818067863701119844876736891347136532072469587076224154337280.0000\n",
      "epoch 100   loss=10861414192650866233625679000756002283192852829546271201308303187678020357350235618338413881221489468814599269763320360914991663884980537419165211518587539828596583428779084297094893046989848576.0000\n",
      "epoch 120   loss=1294103633682488042110467665548661808621500271841153172839923448271446393125685937157689749159316317428445239540074380039604603316041818791056668304617842936747615745188138470853423815729475975612720220584022913354801803837086629888.0000\n",
      "epoch 140   loss=154188412761513753820966859746240174026137635519485784264723264686134460413415091843210045830275270259527712723451408714620826401281829656610243489195403653434987234231111481416665091218389369100334628561897077563513344691127413153969862269991671487376449516874812620800.0000\n",
      "epoch 160   loss=18371068600019079973850478936442404720232471404732457241892645892502054431522871876577433998212247668053586812067372259966094338663025931367653163294085617953690476894185127476428110274751189808966248046425499085887670987331777232219059237547321359341213714488688839786791727341004195322810901424557093027840.0000\n",
      "epoch 180   loss=inf\n",
      "epoch 200   loss=inf\n"
     ]
    },
    {
     "name": "stderr",
     "output_type": "stream",
     "text": [
      "/Users/jovanp./Projects/college/data_mining_scripts/algorithms/linear_regression.py:59: RuntimeWarning: overflow encountered in square\n",
      "  loss = np.mean((Xb @ self.theta_ - y) ** 2)\n"
     ]
    },
    {
     "data": {
      "image/png": "[encoded data removed]",
      "text/plain": [
       "<Figure size 400x300 with 1 Axes>"
      ]
     },
     "metadata": {},
     "output_type": "display_data"
    },
    {
     "ename": "ValueError",
     "evalue": "matmul: Input operand 1 has a mismatch in its core dimension 0, with gufunc signature (n?,k),(k,m?)->(n?,m?) (size 3 is different from 2)",
     "output_type": "error",
     "traceback": [
      "\u001b[31m---------------------------------------------------------------------------\u001b[39m",
      "\u001b[31mValueError\u001b[39m                                Traceback (most recent call last)",
      "\u001b[36mCell\u001b[39m\u001b[36m \u001b[39m\u001b[32mIn[3]\u001b[39m\u001b[32m, line 8\u001b[39m\n\u001b[32m      5\u001b[39m plot_loss_curve(model_gd)\n\u001b[32m      7\u001b[39m \u001b[38;5;66;03m# Because we have 2 features, pick one (CPU) for a 2-D regression-line plot\u001b[39;00m\n\u001b[32m----> \u001b[39m\u001b[32m8\u001b[39m \u001b[43mplot_2d_regression\u001b[49m\u001b[43m(\u001b[49m\n\u001b[32m      9\u001b[39m \u001b[43m    \u001b[49m\u001b[43mX_tr\u001b[49m\u001b[43m[\u001b[49m\u001b[43m:\u001b[49m\u001b[43m,\u001b[49m\u001b[43m \u001b[49m\u001b[43m:\u001b[49m\u001b[32;43m1\u001b[39;49m\u001b[43m]\u001b[49m\u001b[43m,\u001b[49m\u001b[43m \u001b[49m\u001b[43my_tr\u001b[49m\u001b[43m,\u001b[49m\u001b[43m \u001b[49m\u001b[43mmodel_gd\u001b[49m\u001b[43m,\u001b[49m\u001b[43m \u001b[49m\u001b[43mtitle\u001b[49m\u001b[43m=\u001b[49m\u001b[33;43m\"\u001b[39;49m\u001b[33;43mCPU freq vs Compile time (GD fit)\u001b[39;49m\u001b[33;43m\"\u001b[39;49m\n\u001b[32m     10\u001b[39m \u001b[43m)\u001b[49m\n",
      "\u001b[36mFile \u001b[39m\u001b[32m~/Projects/college/data_mining_scripts/algorithms/linear_regression.py:83\u001b[39m, in \u001b[36mplot_2d_regression\u001b[39m\u001b[34m(X, y, model, title)\u001b[39m\n\u001b[32m     81\u001b[39m plt.scatter(X[:, \u001b[32m0\u001b[39m], y, label=\u001b[33m\"\u001b[39m\u001b[33mdata\u001b[39m\u001b[33m\"\u001b[39m, edgecolor=\u001b[33m\"\u001b[39m\u001b[33mk\u001b[39m\u001b[33m\"\u001b[39m)\n\u001b[32m     82\u001b[39m xs = np.linspace(X[:, \u001b[32m0\u001b[39m].min(), X[:, \u001b[32m0\u001b[39m].max(), \u001b[32m100\u001b[39m).reshape(-\u001b[32m1\u001b[39m, \u001b[32m1\u001b[39m)\n\u001b[32m---> \u001b[39m\u001b[32m83\u001b[39m plt.plot(xs, \u001b[43mmodel\u001b[49m\u001b[43m.\u001b[49m\u001b[43mpredict\u001b[49m\u001b[43m(\u001b[49m\u001b[43mxs\u001b[49m\u001b[43m)\u001b[49m, c=\u001b[33m\"\u001b[39m\u001b[33mred\u001b[39m\u001b[33m\"\u001b[39m, label=\u001b[33m\"\u001b[39m\u001b[33mfit\u001b[39m\u001b[33m\"\u001b[39m)\n\u001b[32m     84\u001b[39m plt.xlabel(\u001b[33m\"\u001b[39m\u001b[33mX\u001b[39m\u001b[33m\"\u001b[39m)\n\u001b[32m     85\u001b[39m plt.ylabel(\u001b[33m\"\u001b[39m\u001b[33my\u001b[39m\u001b[33m\"\u001b[39m)\n",
      "\u001b[36mFile \u001b[39m\u001b[32m~/Projects/college/data_mining_scripts/algorithms/linear_regression.py:67\u001b[39m, in \u001b[36mLinearReg.predict\u001b[39m\u001b[34m(self, X)\u001b[39m\n\u001b[32m     66\u001b[39m \u001b[38;5;28;01mdef\u001b[39;00m\u001b[38;5;250m \u001b[39m\u001b[34mpredict\u001b[39m(\u001b[38;5;28mself\u001b[39m, X: np.ndarray) -> np.ndarray:\n\u001b[32m---> \u001b[39m\u001b[32m67\u001b[39m     \u001b[38;5;28;01mreturn\u001b[39;00m \u001b[43m_add_bias\u001b[49m\u001b[43m(\u001b[49m\u001b[43mX\u001b[49m\u001b[43m)\u001b[49m\u001b[43m \u001b[49m\u001b[43m@\u001b[49m\u001b[43m \u001b[49m\u001b[38;5;28;43mself\u001b[39;49m\u001b[43m.\u001b[49m\u001b[43mtheta_\u001b[49m\n",
      "\u001b[31mValueError\u001b[39m: matmul: Input operand 1 has a mismatch in its core dimension 0, with gufunc signature (n?,k),(k,m?)->(n?,m?) (size 3 is different from 2)"
     ]
    },
    {
     "data": {
      "image/png": "[encoded data removed]",
      "text/plain": [
       "<Figure size 400x300 with 1 Axes>"
      ]
     },
     "metadata": {},
     "output_type": "display_data"
    }
   ],
   "source": [
    "model_gd = LinearReg(\n",
    "    method=\"gd\",\n",
    "    lr=0.01,\n",
    "    epochs=300,\n",
    "    batch=None,  # full GD\n",
    "    verbose=True,  # prints every 10 % epochs\n",
    ").fit(X_tr, y_tr)\n",
    "\n",
    "plot_loss_curve(model_gd)"
   ]
  },
  {
   "cell_type": "code",
   "execution_count": null,
   "id": "c0d6af31",
   "metadata": {},
   "outputs": [],
   "source": [
    "ram_const = X_tr[:, 1].mean()  # fiksiraj RAM na prosjek (~16 GB)\n",
    "\n",
    "plot_2d_slice(\n",
    "    model_gd,\n",
    "    X_tr,\n",
    "    y_tr,\n",
    "    vary_index=0,  # feature 0 = CPU GHz\n",
    "    const_vals={1: ram_const},  # RAM konstanta\n",
    "    title=f\"CPU freq vs Compile time  (RAM = {ram_const:.1f} GB)\",\n",
    ")"
   ]
  },
  {
   "cell_type": "code",
   "execution_count": null,
   "id": "db277928",
   "metadata": {},
   "outputs": [],
   "source": [
    "new_spec = np.array([[3.1, 12]])  # 3.1 GHz / 12 GB\n",
    "pred_sec = model_cf.predict(new_spec)[0]\n",
    "\n",
    "print(\n",
    "    f\"Predicted compile-time for {new_spec[0,0]} GHz / {new_spec[0,1]} GB:\",\n",
    "    f\"{pred_sec:.1f} s\",\n",
    ")"
   ]
  }
 ],
 "metadata": {
  "kernelspec": {
   "display_name": "data-mining-scripts-py3.11",
   "language": "python",
   "name": "python3"
  },
  "language_info": {
   "codemirror_mode": {
    "name": "ipython",
    "version": 3
   },
   "file_extension": ".py",
   "mimetype": "text/x-python",
   "name": "python",
   "nbconvert_exporter": "python",
   "pygments_lexer": "ipython3",
   "version": "3.11.6"
  }
 },
 "nbformat": 4,
 "nbformat_minor": 5
}
